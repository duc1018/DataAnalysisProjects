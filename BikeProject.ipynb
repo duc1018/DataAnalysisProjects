{
 "cells": [
  {
   "cell_type": "markdown",
   "metadata": {},
   "source": [
    "\n",
    "\n",
    " Washington divides its users into two types: 'Registered' for users with annual, monthly, and other longer-term subscriptions, and 'Casual', for users with 24-hour, 3-day, and other short-term passes. \n",
    " \n",
    " The New York and Chicago data uses 'Subscriber' and 'Customer' for these groups, respectively. For consistency, you will convert the Washington labels to match the other two."
   ]
  },
  {
   "cell_type": "code",
   "execution_count": 1,
   "metadata": {
    "collapsed": true
   },
   "outputs": [],
   "source": [
    "## import all necessary packages and functions.\n",
    "import csv # read and write csv files\n",
    "from datetime import datetime # operations to parse dates\n",
    "from pprint import pprint # use to print data structures like dictionaries in"
   ]
  },
  {
   "cell_type": "code",
   "execution_count": 2,
   "metadata": {},
   "outputs": [
    {
     "name": "stdout",
     "output_type": "stream",
     "text": [
      "\n",
      "City: NYC\n",
      "OrderedDict([('tripduration', '839'),\n",
      "             ('starttime', '1/1/2016 00:09:55'),\n",
      "             ('stoptime', '1/1/2016 00:23:54'),\n",
      "             ('start station id', '532'),\n",
      "             ('start station name', 'S 5 Pl & S 4 St'),\n",
      "             ('start station latitude', '40.710451'),\n",
      "             ('start station longitude', '-73.960876'),\n",
      "             ('end station id', '401'),\n",
      "             ('end station name', 'Allen St & Rivington St'),\n",
      "             ('end station latitude', '40.72019576'),\n",
      "             ('end station longitude', '-73.98997825'),\n",
      "             ('bikeid', '17109'),\n",
      "             ('usertype', 'Customer'),\n",
      "             ('birth year', ''),\n",
      "             ('gender', '0')])\n",
      "\n",
      "City: Chicago\n",
      "OrderedDict([('trip_id', '9080545'),\n",
      "             ('starttime', '3/31/2016 23:30'),\n",
      "             ('stoptime', '3/31/2016 23:46'),\n",
      "             ('bikeid', '2295'),\n",
      "             ('tripduration', '926'),\n",
      "             ('from_station_id', '156'),\n",
      "             ('from_station_name', 'Clark St & Wellington Ave'),\n",
      "             ('to_station_id', '166'),\n",
      "             ('to_station_name', 'Ashland Ave & Wrightwood Ave'),\n",
      "             ('usertype', 'Subscriber'),\n",
      "             ('gender', 'Male'),\n",
      "             ('birthyear', '1990')])\n",
      "\n",
      "City: Washington\n",
      "OrderedDict([('Duration (ms)', '427387'),\n",
      "             ('Start date', '3/31/2016 22:57'),\n",
      "             ('End date', '3/31/2016 23:04'),\n",
      "             ('Start station number', '31602'),\n",
      "             ('Start station', 'Park Rd & Holmead Pl NW'),\n",
      "             ('End station number', '31207'),\n",
      "             ('End station', 'Georgia Ave and Fairmont St NW'),\n",
      "             ('Bike number', 'W20842'),\n",
      "             ('Member Type', 'Registered')])\n"
     ]
    }
   ],
   "source": [
    "def print_first_point(filename):\n",
    "    city = filename.split('-')[0].split('/')[-1]\n",
    "    print('\\nCity: {}'.format(city))\n",
    "    path = r\"F:\\BikeDataProject\\BikeDataCVS\\{}\".format(filename)\n",
    "    with open(path) as f_in:\n",
    "        trip_reader = csv.DictReader(f_in)\n",
    "        first_trip = next(trip_reader)\n",
    "        pprint(first_trip)\n",
    "    return (city, first_trip)\n",
    "\n",
    "data_files = ['NYC-CitiBike-2016.csv',\n",
    "              'Chicago-Divvy-2016.csv',\n",
    "              'Washington-CapitalBikeshare-2016.csv',]\n",
    "\n",
    "\n",
    "example_trips = {}\n",
    "for data_file in data_files:\n",
    "    city, first_trip = print_first_point(data_file)\n",
    "    example_trips[city] = first_trip\n",
    "\n",
    "\n"
   ]
  },
  {
   "cell_type": "code",
   "execution_count": 3,
   "metadata": {
    "collapsed": true
   },
   "outputs": [],
   "source": [
    "def duration_in_mins(datum, city):\n",
    "    \"\"\"\n",
    "    Takes as input a dictionary containing info about a single trip (datum) and\n",
    "    its origin city (city) and returns the trip duration in units of minutes.\n",
    "    \n",
    "    Remember that Washington is in terms of milliseconds while Chicago and NYC\n",
    "    are in terms of seconds. \n",
    "    \n",
    "    HINT: The csv module reads in all of the data as strings, including numeric\n",
    "    values. You will need a function to convert the strings into an appropriate\n",
    "    numeric type when making your transformations.\n",
    "    see https://docs.python.org/3/library/functions.html\n",
    "    \"\"\"\n",
    "    # YOUR CODE HERE\n",
    "    duration = 0\n",
    "    if city == 'Washington':\n",
    "        duration = float(datum['Duration (ms)'])/(1e3*60)\n",
    "    else:\n",
    "  \n",
    "        duration = float(datum['tripduration'])/60\n",
    "    \n",
    "    return duration\n",
    "\n",
    "\n",
    "# Some tests to check that your code works. There should be no output if all of\n",
    "# the assertions pass. The `example_trips` dictionary was obtained from when\n",
    "# you printed the first trip from each of the original data files.\n",
    "tests = {'NYC': 13.9833,\n",
    "         'Chicago': 15.4333,\n",
    "         'Washington': 7.1231}\n",
    "\n",
    "for city in tests:\n",
    "    assert abs(duration_in_mins(example_trips[city], city) - tests[city]) < .001"
   ]
  },
  {
   "cell_type": "code",
   "execution_count": 4,
   "metadata": {
    "collapsed": true
   },
   "outputs": [],
   "source": [
    "# helper function to extract month, hour and day of week\n",
    "def extract_date(string, city):\n",
    "    # 'NYC start time include second, so it has different format\"\n",
    "    if city == 'NYC':\n",
    "        date_time = datetime.strptime(string,'%m/%d/%Y %H:%M:%S')\n",
    "    else:\n",
    "        date_time = datetime.strptime(string,'%m/%d/%Y %H:%M')\n",
    "    month     = int(date_time.strftime('%m'))\n",
    "    hour      = int(date_time.strftime('%H'))\n",
    "    day_of_week = date_time.strftime(\"%A\")\n",
    "    #print(\"\\nMonth = {} \\nHour = {} \\nday_of_week = {}\".format(month,hour,day_of_week))\n",
    "    return (month, hour, day_of_week)\n",
    "\n",
    "\n",
    "def time_of_trip(datum, city):\n",
    "\n",
    "    city_name = city\n",
    "    # YOUR CODE HERE\n",
    "    if city == 'Washington':\n",
    "        month, hour, day_of_week = extract_date(datum[\"Start date\"],city_name)\n",
    "    else:\n",
    "        month, hour, day_of_week = extract_date(datum[\"starttime\"],city_name)\n",
    "        \n",
    "    return (month, hour, day_of_week)\n",
    "\n",
    "\n",
    "# Some tests to check that your code works. There should be no output if all of\n",
    "# the assertions pass. The `example_trips` dictionary was obtained from when\n",
    "# you printed the first trip from each of the original data files.\n",
    "tests = {'NYC': (1, 0, 'Friday'),\n",
    "         'Chicago': (3, 23, 'Thursday'),\n",
    "         'Washington': (3, 22, 'Thursday')}\n",
    "\n",
    "for city in tests:\n",
    "    assert time_of_trip(example_trips[city], city) == tests[city]\n"
   ]
  },
  {
   "cell_type": "code",
   "execution_count": 5,
   "metadata": {
    "collapsed": true
   },
   "outputs": [],
   "source": [
    "def type_of_user(datum, city):\n",
    "    \"\"\"\n",
    "    Takes as input a dictionary containing info about a single trip (datum) and\n",
    "    its origin city (city) and returns the type of system user that made the\n",
    "    trip.\n",
    "    \n",
    "    Remember that Washington has different category names compared to Chicago\n",
    "    and NYC. \n",
    "    \"\"\"\n",
    "    \n",
    "    # YOUR CODE HERE\n",
    "    if city == 'Washington':\n",
    "        if datum['Member Type'] == 'Registered':\n",
    "            user_type = 'Subscriber'\n",
    "        else:\n",
    "            user_type = 'Customer'\n",
    "    else:\n",
    "        user_type = datum['usertype']\n",
    "    #print(\"city = {}, user_type = {}\".format(city,user_type))\n",
    "    return user_type\n",
    "\n",
    "\n",
    "# Some tests to check that your code works. There should be no output if all of\n",
    "# the assertions pass. The `example_trips` dictionary was obtained from when\n",
    "# you printed the first trip from each of the original data files.\n",
    "tests = {'NYC': 'Customer',\n",
    "         'Chicago': 'Subscriber',\n",
    "         'Washington': 'Subscriber'}\n",
    "\n",
    "for city in tests:\n",
    "    assert type_of_user(example_trips[city], city) == tests[city]"
   ]
  },
  {
   "cell_type": "markdown",
   "metadata": {},
   "source": [
    "Question 3b: Now, use the helper functions you wrote above to create a condensed data file for each city consisting only of the data fields indicated above. In the /examples/ folder, you will see an example datafile from the Bay Area Bike Share before and after conversion. Make sure that your output is formatted to be consistent with the example file."
   ]
  },
  {
   "cell_type": "code",
   "execution_count": 6,
   "metadata": {
    "collapsed": true
   },
   "outputs": [],
   "source": [
    "def condense_data(in_file, out_file, city):\n",
    "    \"\"\"\n",
    "    This function takes full data from the specified input file\n",
    "    and writes the condensed data to a specified output file. The city\n",
    "    argument determines how the input file will be parsed.\n",
    "    \n",
    "    HINT: See the cell below to see how the arguments are structured!\n",
    "    \"\"\"\n",
    "    # creat the path to open and write the file\n",
    "    path_out = r\"F:\\BikeDataProject\\BikeDataCVS\\{}\".format(out_file)\n",
    "    path_in = r\"F:\\BikeDataProject\\BikeDataCVS\\{}\".format(in_file)\n",
    "    with open(path_out, 'w') as f_out, open(path_in, 'r') as f_in:\n",
    "        # set up csv DictWriter object - writer requires column names for the\n",
    "        # first row as the \"fieldnames\" argument\n",
    "        out_colnames = ['duration', 'month', 'hour', 'day_of_week', 'user_type']        \n",
    "        trip_writer = csv.DictWriter(f_out, fieldnames = out_colnames)\n",
    "        trip_writer.writeheader()\n",
    "        \n",
    "        ## TODO: set up csv DictReader object ##\n",
    "        trip_reader = csv.DictReader(f_in)\n",
    "        \n",
    "\n",
    "        # collect data from and process each row\n",
    "        for row in trip_reader:\n",
    "            # set up a dictionary to hold the values for the cleaned and trimmed\n",
    "            # data point\n",
    "            new_point = {}\n",
    "            ## TODO: use the helper functions to get the cleaned data from  ##\n",
    "            ## the original data dictionaries.  \n",
    "            new_point['duration'] = duration_in_mins(row, city) \n",
    "            month, hour, day_of_week = time_of_trip(row, city)\n",
    "            new_point['month']   = month\n",
    "            new_point['hour']    = hour\n",
    "            new_point['day_of_week'] = day_of_week\n",
    "            new_point['user_type'] = type_of_user(row, city)            \n",
    "            ## Note that the keys for the new_point dictionary should match ##\n",
    "            ## the column names set in the DictWriter object above.     \n",
    "            \n",
    "            ## TODO: write the processed information to the output file.     ##\n",
    "            ## see https://docs.python.org/3/library/csv.html#writer-objects ##\n",
    "            trip_writer.writerow(new_point)\n",
    "            \n",
    "            \n",
    "            \n",
    "            \n",
    "            \n",
    "            \n",
    "            \n",
    "            \n",
    "            "
   ]
  },
  {
   "cell_type": "code",
   "execution_count": 7,
   "metadata": {},
   "outputs": [
    {
     "name": "stdout",
     "output_type": "stream",
     "text": [
      "\n",
      "City: Washington\n",
      "OrderedDict([('duration', '7.123116666666666'),\n",
      "             ('month', '3'),\n",
      "             ('hour', '22'),\n",
      "             ('day_of_week', 'Thursday'),\n",
      "             ('user_type', 'Subscriber')])\n",
      "\n",
      "City: Chicago\n",
      "OrderedDict([('duration', '15.433333333333334'),\n",
      "             ('month', '3'),\n",
      "             ('hour', '23'),\n",
      "             ('day_of_week', 'Thursday'),\n",
      "             ('user_type', 'Subscriber')])\n",
      "\n",
      "City: NYC\n",
      "OrderedDict([('duration', '13.983333333333333'),\n",
      "             ('month', '1'),\n",
      "             ('hour', '0'),\n",
      "             ('day_of_week', 'Friday'),\n",
      "             ('user_type', 'Customer')])\n"
     ]
    }
   ],
   "source": [
    "# Run this cell to check your work\n",
    "city_info = {'Washington': {'in_file': 'Washington-CapitalBikeshare-2016.csv',\n",
    "                            'out_file': 'Washington-2016-Summary.csv'},\n",
    "             'Chicago': {'in_file': 'Chicago-Divvy-2016.csv',\n",
    "                         'out_file': 'Chicago-2016-Summary.csv'},\n",
    "             'NYC': {'in_file': 'NYC-CitiBike-2016.csv',\n",
    "                     'out_file': 'NYC-2016-Summary.csv'}}\n",
    "\n",
    "for city, filenames in city_info.items():\n",
    "    condense_data(filenames['in_file'], filenames['out_file'], city)\n",
    "    print_first_point(filenames['out_file'])"
   ]
  },
  {
   "cell_type": "code",
   "execution_count": 8,
   "metadata": {
    "collapsed": true
   },
   "outputs": [],
   "source": [
    "def number_of_trips(filename):\n",
    "    \"\"\"\n",
    "    After modification\n",
    "    This function reads in a file with trip data and reports total of trip made\n",
    "    by suscriber and customer, and the proportion of trip made by each customer\n",
    "    type\n",
    "    \"\"\"\n",
    "    path = r\"F:\\BikeDataProject\\BikeDataCVS\\{}\".format(filename)\n",
    "    with open(path, 'r') as f_in:\n",
    "        # set up csv reader object\n",
    "        reader = csv.DictReader(f_in)\n",
    "        \n",
    "        # initialize count variables\n",
    "        n_subscribers = 0\n",
    "        n_customers = 0\n",
    "        \n",
    "        # tally up ride types\n",
    "        for row in reader:\n",
    "            if row['user_type'] == 'Subscriber':\n",
    "                n_subscribers += 1\n",
    "            else:\n",
    "                n_customers += 1\n",
    "        \n",
    "        # compute total number of rides\n",
    "        n_total = n_subscribers + n_customers\n",
    "        # compute proportion of trips made by subscriberss\n",
    "        p_subscribers = n_subscribers/n_total\n",
    "        # compute proportion of trips made by customers\n",
    "        p_customers = n_customers/n_total\n",
    "        \n",
    "        # return tallies as a tuple\n",
    "        return(p_subscribers, p_customers, n_total, n_subscribers, n_customers)"
   ]
  },
  {
   "cell_type": "code",
   "execution_count": 9,
   "metadata": {},
   "outputs": [
    {
     "name": "stdout",
     "output_type": "stream",
     "text": [
      "NYC has the highest number of trips that is 276798\n",
      "NYC has the highest subscriber propotion that is 0.8883590199351151\n",
      "Chicago has the highest customer propotion that is 0.23774798630269925\n",
      "\n",
      "\n",
      "Total trip:\n",
      "{'Washington': 66326, 'Chicago': 72131, 'NYC': 276798}\n",
      "Subsribers_proportion:\n",
      "{'Washington': 0.7802822422579381, 'Chicago': 0.7622520136973008, 'NYC': 0.8883590199351151}\n",
      "Customers_proportion\n",
      "{'Washington': 0.21971775774206193, 'Chicago': 0.23774798630269925, 'NYC': 0.11164098006488486}\n"
     ]
    }
   ],
   "source": [
    "## Modify this and the previous cell to answer Question 4a. Remember to run ##\n",
    "## the function on the cleaned data files you created from Question 3.      ##\n",
    "\n",
    "cities_data = {'Washington':'Washington-2016-Summary.csv',\n",
    "              'Chicago':'Chicago-2016-Summary.csv',\n",
    "               'NYC':'NYC-2016-Summary.csv'}\n",
    "\n",
    "# total_cities,P_sub,P_cus contain each city's approriate value\n",
    "total_city = {}; P_sub = {} ; P_cus = {}\n",
    "for city in cities_data:\n",
    "    data_file = cities_data[city]\n",
    "    p_subscribers, p_customers, n_total = number_of_trips(data_file)[:3]\n",
    "    # put value in correct cartegory\n",
    "    P_sub[city] = p_subscribers; P_cus[city] = p_customers; total_city[city] = n_total\n",
    "\n",
    "#find the max value for each category\n",
    "max_total = max(total_city, key = total_city.get)\n",
    "print('{} has the highest number of trips that is {}'.format(max_total,total_city[max_total]))\n",
    "maxP_sub = max(P_sub, key = P_sub.get)\n",
    "print('{} has the highest subscriber propotion that is {}'.format(maxP_sub,P_sub[maxP_sub]))\n",
    "maxP_cus = max(P_cus, key = P_cus.get)\n",
    "print('{} has the highest customer propotion that is {}'.format(maxP_cus,P_cus[maxP_cus]))             \n",
    "\n",
    "print('\\n')\n",
    "print('Total trip:')\n",
    "print(total_city)\n",
    "print(\"Subsribers_proportion:\")\n",
    "print(P_sub)\n",
    "print(\"Customers_proportion\")\n",
    "print(P_cus)"
   ]
  },
  {
   "cell_type": "markdown",
   "metadata": {},
   "source": [
    "Question 4b: Bike-share systems are designed for riders to take short trips. Most of the time, users are allowed to take trips of 30 minutes or less with no additional charges, with overage charges made for trips of longer than that duration. What is the average trip length for each city? What proportion of rides made in each city are longer than 30 minutes?"
   ]
  },
  {
   "cell_type": "code",
   "execution_count": 10,
   "metadata": {
    "collapsed": true
   },
   "outputs": [],
   "source": [
    "# these functions are used to answer question 4b\n",
    "# this function return the average strip lenght for each city\n",
    "# and proprotion of rides that are longer than 30 minutes\n",
    "def averageNpro30_duration(filename):\n",
    "    path = r\"F:\\BikeDataProject\\BikeDataCVS\\{}\".format(filename)\n",
    "    with open(path,'r') as f_in:\n",
    "        #set up csv reader object\n",
    "        reader = csv.DictReader(f_in)\n",
    "        #d_total is the total trip duration in the city\n",
    "        #countL is number of trips longer than 30\n",
    "        #countT is totaol trip\n",
    "        d_total = 0 ; countL= 0; countT = 0\n",
    "        for row in reader:\n",
    "            time_trip = float(row['duration'])\n",
    "            d_total += time_trip\n",
    "            countT += 1\n",
    "            if time_trip > 30:\n",
    "                countL += 1\n",
    "        #calculate average duration and  proportion of ride greater\n",
    "        # longer 30 minutes\n",
    "        avg_duration = d_total/countT\n",
    "        pro_greater30 = countL/countT\n",
    "        return (avg_duration,pro_greater30)"
   ]
  },
  {
   "cell_type": "code",
   "execution_count": 11,
   "metadata": {},
   "outputs": [
    {
     "name": "stdout",
     "output_type": "stream",
     "text": [
      "Washington average_trip_length is  18.93287355913721 min\n",
      "Washington proportion of ride longer than 30 min is 0.10838886711093688  \n",
      "\n",
      "Chicago average_trip_length is  16.563629368787335\n",
      "Chicago proportion of ride longer than 30 min is 0.08332062497400562  \n",
      "\n",
      "NYC average_trip_length is  15.81259299802294\n",
      "NYC proportion of ride longer than 30 min is 0.07302437156337835 \n"
     ]
    }
   ],
   "source": [
    "W_avgDuration, W_pro30  = averageNpro30_duration(cities_data['Washington'])\n",
    "C_avgDuration, C_pro30  = averageNpro30_duration(cities_data['Chicago'])\n",
    "N_avgDuration, N_pro30  = averageNpro30_duration(cities_data['NYC'])\n",
    "print('Washington average_trip_length is  {} min'.format(W_avgDuration))\n",
    "print('Washington proportion of ride longer than 30 min is {}  \\n'.format(W_pro30))\n",
    "print('Chicago average_trip_length is  {}'.format(C_avgDuration))\n",
    "print('Chicago proportion of ride longer than 30 min is {}  \\n'.format(C_pro30))\n",
    "print('NYC average_trip_length is  {}'.format(N_avgDuration))\n",
    "print('NYC proportion of ride longer than 30 min is {} '.format(N_pro30))"
   ]
  },
  {
   "cell_type": "markdown",
   "metadata": {},
   "source": [
    "Question 4c: Dig deeper into the question of trip duration based on ridership. Choose one city. Within that city, which type of user takes longer rides on average: Subscribers or Customers?"
   ]
  },
  {
   "cell_type": "code",
   "execution_count": 12,
   "metadata": {
    "collapsed": true
   },
   "outputs": [],
   "source": [
    "# this funtion will return average trip duration of subscribers and customber\n",
    "def avg_subNcus_duration(filename):\n",
    "    path = r\"F:\\BikeDataProject\\BikeDataCVS\\{}\".format(filename)\n",
    "    with open(path,'r') as f_in:\n",
    "        #set up csv reader object\n",
    "        reader = csv.DictReader(f_in)\n",
    "        #total trips made by subscriber and customer respectively\n",
    "        n_subscribers, n_customers = number_of_trips(filename)[3:]\n",
    "        d_subscribers, d_customers = 0, 0\n",
    "        #find the total duration for each customer type\n",
    "        for row in reader:\n",
    "            time = float(row['duration'])\n",
    "            if row['user_type'] == 'Subscriber':\n",
    "                d_subscribers += time\n",
    "            else:\n",
    "                d_customers += time\n",
    "        # find the average trip duration\n",
    "        avg_subDura = d_subscribers/n_subscribers\n",
    "        avg_cusDura = d_customers/n_customers\n",
    "        return (avg_subDura,avg_cusDura)\n",
    "\n",
    "# this funtion will compare average duration ride of subscribers and customers\n",
    "def the_best_user_type(city_name,avg_subDura,avg_cusDura):\n",
    "    n = city_name; s = avg_subDura ; c = avg_cusDura\n",
    "    m2 = \"The avearge subscriber trip is {} min, while the avearge customer trip is {} min.\\n\".format(s,c)\n",
    "    if avg_subDura > avg_cusDura:\n",
    "        m1 = \"In {} subscriber takes longer ride on average than customers \\n\".format(n)\n",
    "        message = m1 + m2\n",
    "    elif avg_subDura < avg_cusDura: \n",
    "        m1 = \"In {} customers takes longer ride on average than subscriber \\n\".format(n)\n",
    "        message = m1 + m2\n",
    "    else:\n",
    "        message = \"there are no best user type\"\n",
    "    return message\n"
   ]
  },
  {
   "cell_type": "code",
   "execution_count": 13,
   "metadata": {},
   "outputs": [
    {
     "name": "stdout",
     "output_type": "stream",
     "text": [
      "In Washington, customers takes longer ride on average than subscriber \n",
      "The avearge subscriber trip is 12.528120499294745 min, while the avearge customer trip is 41.67803139252976 min.\n",
      "\n",
      "In Chicago, customers takes longer ride on average than subscriber \n",
      "The avearge subscriber trip is 12.067201690250076 min, while the avearge customer trip is 30.979781133982506 min.\n",
      "\n",
      "In NYC, customers takes longer ride on average than subscriber \n",
      "The avearge subscriber trip is 13.680790523907177 min, while the avearge customer trip is 32.77595139473187 min.\n",
      "\n"
     ]
    }
   ],
   "source": [
    "W_avg_subDura, W_avg_cusDura  = avg_subNcus_duration(cities_data['Washington'])\n",
    "print(the_best_user_type('Washington,',W_avg_subDura,W_avg_cusDura))\n",
    "\n",
    "C_avg_subDura, C_avg_cusDura  = avg_subNcus_duration(cities_data['Chicago'])\n",
    "print(the_best_user_type('Chicago,',C_avg_subDura,C_avg_cusDura))\n",
    "\n",
    "N_avg_subDura, N_avg_cusDura  = avg_subNcus_duration(cities_data['NYC'])\n",
    "print(the_best_user_type('NYC,',N_avg_subDura,N_avg_cusDura))"
   ]
  },
  {
   "cell_type": "code",
   "execution_count": 14,
   "metadata": {
    "collapsed": true
   },
   "outputs": [],
   "source": [
    "# load library\n",
    "import matplotlib.pyplot as plt\n",
    "import numpy as np\n",
    "# this is a 'magic word' that allows for plots to be displayed\n",
    "# inline with the notebook. If you want to know more, see:\n",
    "# http://ipython.readthedocs.io/en/stable/interactive/magics.html\n",
    "%matplotlib inline "
   ]
  },
  {
   "cell_type": "code",
   "execution_count": 15,
   "metadata": {},
   "outputs": [
    {
     "name": "stdout",
     "output_type": "stream",
     "text": [
      "length of durationT = 66326 \n",
      "\n",
      "min_durationT = 1.01055\n",
      "max_durationT = 1422.5163666666667 \n",
      "\n",
      "length of durationC = 14573 \n",
      "\n",
      "min_durationC = 1.0245\n",
      "max_durationC = 1422.5163666666667 \n"
     ]
    }
   ],
   "source": [
    "# durationT contains trip duration of subscibers and  customers\n",
    "# durationC contains only trip duration of customers\n",
    "durationT = [] ; durationC =[]\n",
    "filename = cities_data['Washington']\n",
    "path = r\"F:\\BikeDataProject\\BikeDataCVS\\{}\".format(filename)\n",
    "with open(path,'r') as f_in:\n",
    "    #set up csv reader object\n",
    "    reader = csv.DictReader(f_in)\n",
    "    for row in reader:\n",
    "        time = float(row['duration'])\n",
    "        durationT.append(time)\n",
    "        if row['user_type'] == 'Customer':\n",
    "            durationC.append(time)\n",
    "print(\"length of durationT = {} \\n\".format(len(durationT)))\n",
    "print(\"min_durationT = {}\".format(min(durationT)))\n",
    "print(\"max_durationT = {} \\n\".format(max(durationT)))\n",
    "print(\"length of durationC = {} \\n\".format(len(durationC)))\n",
    "print(\"min_durationC = {}\".format(min(durationC)))\n",
    "print(\"max_durationC = {} \".format(max(durationC)))\n"
   ]
  },
  {
   "cell_type": "markdown",
   "metadata": {},
   "source": [
    "If you followed the use of the .hist() and .show() functions exactly like in the example, you're probably looking at a plot that's completely unexpected. The plot consists of one extremely tall bar on the left, maybe a very short second bar, and a whole lot of empty space in the center and right. Take a look at the duration values on the x-axis. This suggests that there are some highly infrequent outliers in the data. Instead of reprocessing the data, you will use additional parameters with the .hist() function to limit the range of data that is plotted. Documentation for the function can be found [here].\n",
    "https://matplotlib.org/devdocs/api/_as_gen/matplotlib.pyplot.hist.html#matplotlib.pyplot.hist"
   ]
  },
  {
   "cell_type": "code",
   "execution_count": 16,
   "metadata": {},
   "outputs": [
    {
     "data": {
      "image/png": "[encoded data removed]",
      "text/plain": [
       "<matplotlib.figure.Figure at 0x1b0555286a0>"
      ]
     },
     "metadata": {},
     "output_type": "display_data"
    }
   ],
   "source": [
    "# Historgram of time distribution\n",
    "plt.hist(durationT)\n",
    "plt.title('Distribution of Trip Durations')\n",
    "plt.xlabel('Duration (m)')\n",
    "plt.show()"
   ]
  },
  {
   "cell_type": "markdown",
   "metadata": {},
   "source": [
    "This site is excellent for questions like that: https://stackoverflow.com/questions/42741687/python-histogram-outline\n",
    "\n",
    "'k' is shorthand for 'black' (you can use either)."
   ]
  },
  {
   "cell_type": "code",
   "execution_count": 17,
   "metadata": {},
   "outputs": [
    {
     "data": {
      "image/png": "[encoded data removed]",
      "text/plain": [
       "<matplotlib.figure.Figure at 0x1b055528e10>"
      ]
     },
     "metadata": {},
     "output_type": "display_data"
    }
   ],
   "source": [
    "## Use this and additional cells to collect all of the trip times as a list ##\n",
    "## and then use pyplot functions to generate a histogram of trip times.     ##\n",
    "# Historgram of time distribution\n",
    "## Use this and additional cells to answer Question 5. ##\n",
    "binwidth = 5;\n",
    "bins = range(0, 80,binwidth)\n",
    "plt.hist(durationT, bins, range = [1 , 75],edgecolor = \"K\", linewidth = 2 )\n",
    "plt.title('Distribution of Trip Durations')\n",
    "plt.xlabel('Duration (m)')\n",
    "plt.show()\n"
   ]
  },
  {
   "cell_type": "code",
   "execution_count": 18,
   "metadata": {},
   "outputs": [
    {
     "data": {
      "image/png": "[encoded data removed]",
      "text/plain": [
       "<matplotlib.figure.Figure at 0x1b055b01a20>"
      ]
     },
     "metadata": {},
     "output_type": "display_data"
    }
   ],
   "source": [
    "## Use this and additional cells to collect all of the trip times as a list ##\n",
    "## and then use pyplot functions to generate a histogram of trip times.     ##\n",
    "# Historgram of time distribution\n",
    "## Use this and additional cells to answer Question 5. ##\n",
    "binwidth = 5;\n",
    "bins = range(0, 80,binwidth)\n",
    "plt.hist(durationC, bins, range = [1 , 75],edgecolor = \"K\", linewidth = 2 )\n",
    "plt.title('Distribution of Customer Trip Durations')\n",
    "plt.xlabel('Duration (m)')\n",
    "plt.show()"
   ]
  },
  {
   "cell_type": "code",
   "execution_count": 19,
   "metadata": {},
   "outputs": [
    {
     "data": {
      "image/png": "[encoded data removed]",
      "text/plain": [
       "<matplotlib.figure.Figure at 0x1b055b23550>"
      ]
     },
     "metadata": {},
     "output_type": "display_data"
    }
   ],
   "source": [
    "# Example of a bar graph\n",
    "objects = ('Python', 'C++', 'Java', 'Perl', 'Scala', 'Lisp')\n",
    "y_pos = np.arange(len(objects))\n",
    "performance = [10,8,6,4,2,1]\n",
    " \n",
    "plt.bar(y_pos, performance, align='center', alpha= 0.5,edgecolor = \"K\", linewidth = 2)\n",
    "plt.xticks(y_pos, objects)\n",
    "plt.ylabel('Usage')\n",
    "plt.title('Programming language usage')\n",
    " \n",
    "plt.show()"
   ]
  },
  {
   "cell_type": "code",
   "execution_count": 20,
   "metadata": {
    "collapsed": true
   },
   "outputs": [],
   "source": [
    "# this funtion will return the total of trips in the month\n",
    "def trip_by_moth(filename, month):\n",
    "    path = r\"F:\\BikeDataProject\\BikeDataCVS\\{}\".format(filename)\n",
    "    with open(path,'r') as f_in:\n",
    "        #set up csv readerobject\n",
    "        reader = csv.DictReader(f_in)\n",
    "        # monthT is the total of trip of that month\n",
    "        monthT = 0\n",
    "        for row in reader:\n",
    "            if row['month'] == month:\n",
    "                monthT += 1\n",
    "    return monthT\n",
    "\n",
    "# return a dictionary with month as key, and value is the number of trip\n",
    "# in that month\n",
    "def trip_of_year(filename):\n",
    "    months= range(1,13) #months in a year\n",
    "    year_trip = {}\n",
    "    for month in months:\n",
    "        str_month = str(month)\n",
    "        trip = trip_by_moth(filename, str_month)\n",
    "        year_trip[str_month] = trip\n",
    "    return year_trip\n",
    "    "
   ]
  },
  {
   "cell_type": "code",
   "execution_count": 21,
   "metadata": {
    "collapsed": true
   },
   "outputs": [],
   "source": [
    "def plot_bar(filename):\n",
    "    city = filename.split('-')[0]#.split('/')[-1]\n",
    "    # Dictionary is used to make sure to label the numner of trip with month\n",
    "    trip_year = trip_of_year(filename)\n",
    "    distances = []\n",
    "    for month in trip_year:\n",
    "        distances.append(trip_year[month])\n",
    "    #Graph the bar charge\n",
    "    months = ('Jan', 'Feb', 'Mar', 'Apr', 'May', 'June','Jul','Aug','Sept','Oct','Nov','Dec')\n",
    "    y_pos = np.arange(len(months))\n",
    "    plt.bar(y_pos, distances, align='center', alpha= 0.5,edgecolor = \"K\", linewidth = 2)\n",
    "    plt.xticks(y_pos, months)\n",
    "    plt.ylabel('Number of Trips')\n",
    "    plt.xlabel('Months')\n",
    "    plt.title('{} Trips of year'.format(city))\n",
    "    plt.show()\n",
    "\n"
   ]
  },
  {
   "cell_type": "code",
   "execution_count": 22,
   "metadata": {},
   "outputs": [
    {
     "data": {
      "image/png": "[encoded data removed]",
      "text/plain": [
       "<matplotlib.figure.Figure at 0x1b055bb3c18>"
      ]
     },
     "metadata": {},
     "output_type": "display_data"
    }
   ],
   "source": [
    "filename = cities_data['NYC']\n",
    "plot_bar(filename)"
   ]
  },
  {
   "cell_type": "code",
   "execution_count": 23,
   "metadata": {},
   "outputs": [
    {
     "name": "stdout",
     "output_type": "stream",
     "text": [
      "[10180, 11170, 18413, 20160, 24455, 29242, 27522, 31104, 32699, 31519, 24148, 16186]\n"
     ]
    }
   ],
   "source": [
    "filename = cities_data['NYC']\n",
    "# Dictionary is used to make sure to label the numner of trip with month\n",
    "trip_year = trip_of_year(filename)\n",
    "# extract values from dict\n",
    "NYC_distances = []\n",
    "for month in trip_year:\n",
    "    NYC_distances.append(trip_year[month])\n",
    "print(NYC_distances)"
   ]
  },
  {
   "cell_type": "code",
   "execution_count": 24,
   "metadata": {},
   "outputs": [
    {
     "data": {
      "image/png": "[encoded data removed]",
      "text/plain": [
       "<matplotlib.figure.Figure at 0x1b055b07780>"
      ]
     },
     "metadata": {},
     "output_type": "display_data"
    }
   ],
   "source": [
    "#Display each month trip on graph bar\n",
    "months = ('Jan', 'Feb', 'Mar', 'Apr', 'May', 'June','Jul','Aug','Sept','Oct','Nov','Dec')\n",
    "y_pos = np.arange(len(months))\n",
    "\n",
    "plt.bar(y_pos, NYC_distances, align='center', alpha= 0.5,edgecolor = \"K\", linewidth = 2)\n",
    "plt.xticks(y_pos, months)\n",
    "plt.ylabel('Number of Trips')\n",
    "plt.title('NYC Trips of year')\n",
    " \n",
    "plt.show()"
   ]
  },
  {
   "cell_type": "code",
   "execution_count": 25,
   "metadata": {},
   "outputs": [
    {
     "name": "stdout",
     "output_type": "stream",
     "text": [
      "F:\\BikeDataProject\\BikeDataCVS\\NYC-2016-Summary.csv\n",
      "\n"
     ]
    },
    {
     "data": {
      "text/html": [
       "<div>\n",
       "<style>\n",
       "    .dataframe thead tr:only-child th {\n",
       "        text-align: right;\n",
       "    }\n",
       "\n",
       "    .dataframe thead th {\n",
       "        text-align: left;\n",
       "    }\n",
       "\n",
       "    .dataframe tbody tr th {\n",
       "        vertical-align: top;\n",
       "    }\n",
       "</style>\n",
       "<table border=\"1\" class=\"dataframe\">\n",
       "  <thead>\n",
       "    <tr style=\"text-align: right;\">\n",
       "      <th></th>\n",
       "      <th>duration</th>\n",
       "      <th>month</th>\n",
       "      <th>hour</th>\n",
       "      <th>day_of_week</th>\n",
       "      <th>user_type</th>\n",
       "    </tr>\n",
       "  </thead>\n",
       "  <tbody>\n",
       "    <tr>\n",
       "      <th>0</th>\n",
       "      <td>13.983333</td>\n",
       "      <td>1</td>\n",
       "      <td>0</td>\n",
       "      <td>Friday</td>\n",
       "      <td>Customer</td>\n",
       "    </tr>\n",
       "    <tr>\n",
       "      <th>1</th>\n",
       "      <td>11.433333</td>\n",
       "      <td>1</td>\n",
       "      <td>0</td>\n",
       "      <td>Friday</td>\n",
       "      <td>Subscriber</td>\n",
       "    </tr>\n",
       "    <tr>\n",
       "      <th>2</th>\n",
       "      <td>5.250000</td>\n",
       "      <td>1</td>\n",
       "      <td>0</td>\n",
       "      <td>Friday</td>\n",
       "      <td>Subscriber</td>\n",
       "    </tr>\n",
       "    <tr>\n",
       "      <th>3</th>\n",
       "      <td>12.316667</td>\n",
       "      <td>1</td>\n",
       "      <td>0</td>\n",
       "      <td>Friday</td>\n",
       "      <td>Subscriber</td>\n",
       "    </tr>\n",
       "    <tr>\n",
       "      <th>4</th>\n",
       "      <td>20.883333</td>\n",
       "      <td>1</td>\n",
       "      <td>0</td>\n",
       "      <td>Friday</td>\n",
       "      <td>Customer</td>\n",
       "    </tr>\n",
       "  </tbody>\n",
       "</table>\n",
       "</div>"
      ],
      "text/plain": [
       "    duration  month  hour day_of_week   user_type\n",
       "0  13.983333      1     0      Friday    Customer\n",
       "1  11.433333      1     0      Friday  Subscriber\n",
       "2   5.250000      1     0      Friday  Subscriber\n",
       "3  12.316667      1     0      Friday  Subscriber\n",
       "4  20.883333      1     0      Friday    Customer"
      ]
     },
     "execution_count": 25,
     "metadata": {},
     "output_type": "execute_result"
    }
   ],
   "source": [
    "import pandas as pd\n",
    "filename = cities_data['NYC']\n",
    "path = r\"F:\\BikeDataProject\\BikeDataCVS\\{}\".format(filename)\n",
    "print(path + \"\\n\")\n",
    "df = pd.read_csv(path)\n",
    "# head() is a useful function you can call on your dataframe to display the first few rows. \n",
    "# Let's use it to see what this data looks like.\n",
    "df.head()"
   ]
  }
 ],
 "metadata": {
  "kernelspec": {
   "display_name": "Python 3",
   "language": "python",
   "name": "python3"
  },
  "language_info": {
   "codemirror_mode": {
    "name": "ipython",
    "version": 3
   },
   "file_extension": ".py",
   "mimetype": "text/x-python",
   "name": "python",
   "nbconvert_exporter": "python",
   "pygments_lexer": "ipython3",
   "version": "3.6.3"
  }
 },
 "nbformat": 4,
 "nbformat_minor": 2
}
