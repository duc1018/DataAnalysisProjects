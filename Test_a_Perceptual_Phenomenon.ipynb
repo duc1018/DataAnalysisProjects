{
 "cells": [
  {
   "cell_type": "markdown",
   "metadata": {},
   "source": [
    "## Analyzing the Stroop Effect\n",
    "\n",
    "\n",
    "## Table of Contrents\n",
    "- [Introduction](#intro)\n",
    "- [Part I - Data Warangling](#data_wrangle)\n",
    "- [Part II - A/B Test](#test)\n",
    "- [Part III - Conclusion](#conclusion)\n",
    "- [Acknowledgment](#acknowledgment)\n",
    "\n",
    "<a id='intro'></a>\n",
    "\n",
    "## Introduction\n",
    "In the Stroop Effect experiment, a list of words is presented to the participants. Their task is to say the ink color in which the word is printed.\n",
    "There are two conditions for the task: congruent and congruent words. In the congruent word conditon, the colors of the displayed words match their names: For instance,  They are <span style=\"color:orange\">ORANGE</span>,\n",
    "<span style=\"color:green\">GREEN</span>. In contrast, the colors of incongruent words do not match their names.For example, <span style=\"color:red\">BLUE </span>,<span style=\"color:blue\">RED </span>. The participant will go carry the task and record the time from each condition.\n",
    "\n",
    "\n",
    "\n"
   ]
  },
  {
   "cell_type": "code",
   "execution_count": 1,
   "metadata": {},
   "outputs": [],
   "source": [
    "import pandas as pd\n",
    "import numpy as np\n",
    "import random\n",
    "import matplotlib.pyplot as plt\n",
    "import scipy.stats as stats\n",
    "import seaborn as sns\n",
    "sns.set_style('darkgrid')\n",
    "%matplotlib inline\n",
    "random.seed(42)"
   ]
  },
  {
   "cell_type": "markdown",
   "metadata": {},
   "source": [
    "<a id='data_wrangle'></a>\n",
    "## Part I - Data Warangling"
   ]
  },
  {
   "cell_type": "code",
   "execution_count": 2,
   "metadata": {},
   "outputs": [],
   "source": [
    "# define the path to access the data\n",
    "path = \"F:\\data_base\\{}\".format('stroopdata.csv')"
   ]
  },
  {
   "cell_type": "code",
   "execution_count": 3,
   "metadata": {},
   "outputs": [],
   "source": [
    "df = pd.read_csv(path)"
   ]
  },
  {
   "cell_type": "code",
   "execution_count": 4,
   "metadata": {},
   "outputs": [
    {
     "data": {
      "text/plain": [
       "0"
      ]
     },
     "execution_count": 4,
     "metadata": {},
     "output_type": "execute_result"
    }
   ],
   "source": [
    "sum(df.isnull().any())"
   ]
  },
  {
   "cell_type": "markdown",
   "metadata": {},
   "source": [
    "Since the value is zero, there are no null value in this data set."
   ]
  },
  {
   "cell_type": "code",
   "execution_count": 5,
   "metadata": {},
   "outputs": [
    {
     "data": {
      "text/html": [
       "<div>\n",
       "<style scoped>\n",
       "    .dataframe tbody tr th:only-of-type {\n",
       "        vertical-align: middle;\n",
       "    }\n",
       "\n",
       "    .dataframe tbody tr th {\n",
       "        vertical-align: top;\n",
       "    }\n",
       "\n",
       "    .dataframe thead th {\n",
       "        text-align: right;\n",
       "    }\n",
       "</style>\n",
       "<table border=\"1\" class=\"dataframe\">\n",
       "  <thead>\n",
       "    <tr style=\"text-align: right;\">\n",
       "      <th></th>\n",
       "      <th>Congruent</th>\n",
       "      <th>Incongruent</th>\n",
       "    </tr>\n",
       "  </thead>\n",
       "  <tbody>\n",
       "    <tr>\n",
       "      <th>0</th>\n",
       "      <td>12.079</td>\n",
       "      <td>19.278</td>\n",
       "    </tr>\n",
       "    <tr>\n",
       "      <th>1</th>\n",
       "      <td>16.791</td>\n",
       "      <td>18.741</td>\n",
       "    </tr>\n",
       "    <tr>\n",
       "      <th>2</th>\n",
       "      <td>9.564</td>\n",
       "      <td>21.214</td>\n",
       "    </tr>\n",
       "    <tr>\n",
       "      <th>3</th>\n",
       "      <td>8.630</td>\n",
       "      <td>15.687</td>\n",
       "    </tr>\n",
       "    <tr>\n",
       "      <th>4</th>\n",
       "      <td>14.669</td>\n",
       "      <td>22.803</td>\n",
       "    </tr>\n",
       "  </tbody>\n",
       "</table>\n",
       "</div>"
      ],
      "text/plain": [
       "   Congruent  Incongruent\n",
       "0     12.079       19.278\n",
       "1     16.791       18.741\n",
       "2      9.564       21.214\n",
       "3      8.630       15.687\n",
       "4     14.669       22.803"
      ]
     },
     "execution_count": 5,
     "metadata": {},
     "output_type": "execute_result"
    }
   ],
   "source": [
    "df.head()"
   ]
  },
  {
   "cell_type": "markdown",
   "metadata": {},
   "source": [
    " What is the independent variable? What is the dependent variable?\n",
    " **Your Answer**\n",
    " The independent variable are the two conditions: congruent , Incongruent.\n",
    "<br><br>\n",
    "The dependent variable are the responsed time for each condition in the equal sized lists"
   ]
  },
  {
   "cell_type": "markdown",
   "metadata": {},
   "source": [
    "<a id='test'></a>\n",
    "## Part II - A/B Test"
   ]
  },
  {
   "cell_type": "markdown",
   "metadata": {},
   "source": [
    "Throughout this project letter C an I represent congruent and incongruent conditions repstectively."
   ]
  },
  {
   "cell_type": "code",
   "execution_count": 6,
   "metadata": {},
   "outputs": [
    {
     "name": "stdout",
     "output_type": "stream",
     "text": [
      "sample_size =24\n"
     ]
    }
   ],
   "source": [
    "print('sample_size ={}'.format(df.shape[0]))"
   ]
  },
  {
   "cell_type": "markdown",
   "metadata": {},
   "source": [
    "`1.`What is an appropriate set of hypotheses for this task? What kind of statistical test do you expect to perform? Justify your choices.\n"
   ]
  },
  {
   "cell_type": "markdown",
   "metadata": {},
   "source": [
    "**Answer**\n",
    "<br><br>\n",
    "Let $\\mu_c$ be the congruent recognition mean time and $\\mu_i$ be the incongruent recognition mean time \n",
    "<br><br>\n",
    "Null Hypothesis $H_0$: the time congruent recogizion mean  is equal or greater than the time incongruent recogizion mean.\n",
    "$\\mu_c$ $\\geq$ $\\mu_i$\n",
    "    \n",
    "Alternative Hypothesis $H_0$: the time congruent recogizion mean  is less than the time incongruent recogizion mean. $\\mu_c$ $<$ $\\mu_i$\n",
    "    \n",
    "<br> Since the sample size is less than 30. In addition, the population variance is unknown. It is approriate to use the one sided t-test. The rule of thump is that the data sample is not normally distributed , when the sample is less than 30.\n",
    "<br> The this t-test would be performed on the paired data, the same individual is exposed and tested for each condition.\n",
    "<br><br>\n",
    "Report some descriptive statistics regarding this dataset. Include at least one measure of central tendency and at least one measure of variability. The name of the data file is 'stroopdata.csv'."
   ]
  },
  {
   "cell_type": "code",
   "execution_count": 7,
   "metadata": {},
   "outputs": [],
   "source": [
    "# obtain the \n",
    "C_list = df['Congruent'].values.tolist()\n",
    "I_list = df['Incongruent'].values.tolist()"
   ]
  },
  {
   "cell_type": "code",
   "execution_count": 8,
   "metadata": {},
   "outputs": [],
   "source": [
    "def get_descriptive_stat(values):\n",
    "    # return mean, median, variance, standard_deviaiton\n",
    "    # and standard mean error as a list\n",
    "    n = len(values)\n",
    "    package = []\n",
    "    package.append(np.round(np.mean(values), decimals = 2))\n",
    "    package.append(np.round(np.median(values), decimals = 2))\n",
    "    package.append(np.round(np.var(values, ddof = 1), decimals = 2))\n",
    "    package.append(np.round(np.std(values, ddof = 1), decimals = 2))\n",
    "    package.append(np.std(values,ddof = 1)/np.sqrt(n))\n",
    "    return package"
   ]
  },
  {
   "cell_type": "code",
   "execution_count": 9,
   "metadata": {},
   "outputs": [],
   "source": [
    "# descriptive statistics\n",
    "C_statistics= get_descriptive_stat(C_list)\n",
    "I_statistics = get_descriptive_stat(I_list)    "
   ]
  },
  {
   "cell_type": "code",
   "execution_count": 10,
   "metadata": {},
   "outputs": [],
   "source": [
    "from collections import OrderedDict\n",
    "dic = OrderedDict()\n",
    "dic['Statistic'] = ['mean','median','variance','std','SE']\n",
    "dic['Congruent'] = C_statistics\n",
    "dic['InCongruent'] = I_statistics \n",
    "stat_table = pd.DataFrame(dic)"
   ]
  },
  {
   "cell_type": "code",
   "execution_count": 11,
   "metadata": {},
   "outputs": [
    {
     "data": {
      "text/html": [
       "<div>\n",
       "<style scoped>\n",
       "    .dataframe tbody tr th:only-of-type {\n",
       "        vertical-align: middle;\n",
       "    }\n",
       "\n",
       "    .dataframe tbody tr th {\n",
       "        vertical-align: top;\n",
       "    }\n",
       "\n",
       "    .dataframe thead th {\n",
       "        text-align: right;\n",
       "    }\n",
       "</style>\n",
       "<table border=\"1\" class=\"dataframe\">\n",
       "  <thead>\n",
       "    <tr style=\"text-align: right;\">\n",
       "      <th></th>\n",
       "      <th>Statistic</th>\n",
       "      <th>Congruent</th>\n",
       "      <th>InCongruent</th>\n",
       "    </tr>\n",
       "  </thead>\n",
       "  <tbody>\n",
       "    <tr>\n",
       "      <th>0</th>\n",
       "      <td>mean</td>\n",
       "      <td>14.050000</td>\n",
       "      <td>22.020000</td>\n",
       "    </tr>\n",
       "    <tr>\n",
       "      <th>1</th>\n",
       "      <td>median</td>\n",
       "      <td>14.360000</td>\n",
       "      <td>21.020000</td>\n",
       "    </tr>\n",
       "    <tr>\n",
       "      <th>2</th>\n",
       "      <td>variance</td>\n",
       "      <td>12.670000</td>\n",
       "      <td>23.010000</td>\n",
       "    </tr>\n",
       "    <tr>\n",
       "      <th>3</th>\n",
       "      <td>std</td>\n",
       "      <td>3.560000</td>\n",
       "      <td>4.800000</td>\n",
       "    </tr>\n",
       "    <tr>\n",
       "      <th>4</th>\n",
       "      <td>SE</td>\n",
       "      <td>0.726551</td>\n",
       "      <td>0.979195</td>\n",
       "    </tr>\n",
       "  </tbody>\n",
       "</table>\n",
       "</div>"
      ],
      "text/plain": [
       "  Statistic  Congruent  InCongruent\n",
       "0      mean  14.050000    22.020000\n",
       "1    median  14.360000    21.020000\n",
       "2  variance  12.670000    23.010000\n",
       "3       std   3.560000     4.800000\n",
       "4        SE   0.726551     0.979195"
      ]
     },
     "execution_count": 11,
     "metadata": {},
     "output_type": "execute_result"
    }
   ],
   "source": [
    "stat_table "
   ]
  },
  {
   "cell_type": "markdown",
   "metadata": {},
   "source": [
    " Provide one or two visualizations that show the distribution of the sample data. Write one or two sentences noting what you observe about the plot or plots."
   ]
  },
  {
   "cell_type": "code",
   "execution_count": 12,
   "metadata": {},
   "outputs": [
    {
     "data": {
      "text/plain": [
       "<matplotlib.legend.Legend at 0x1a26178bfd0>"
      ]
     },
     "execution_count": 12,
     "metadata": {},
     "output_type": "execute_result"
    },
    {
     "data": {
      "image/png": "[encoded data removed]",
      "text/plain": [
       "<matplotlib.figure.Figure at 0x1a25e1d5160>"
      ]
     },
     "metadata": {},
     "output_type": "display_data"
    }
   ],
   "source": [
    "ax = df.plot.hist(stacked = True, range = [7.05, 37] ,edgecolor = \"K\")\n",
    "ax.set(title = \"Color Recognition Time Histogram\",\n",
    "       xlabel = 'Color Recognition Time(Seconds)')\n",
    "ax.legend(loc = 'upper left', bbox_to_anchor=(1, 1))"
   ]
  },
  {
   "cell_type": "code",
   "execution_count": 13,
   "metadata": {},
   "outputs": [
    {
     "data": {
      "text/plain": [
       "[Text(0,0.5,'Time(second)'),\n",
       " Text(0.5,0,'Condition'),\n",
       " Text(0.5,1,'Average Recognition Time Bar')]"
      ]
     },
     "execution_count": 13,
     "metadata": {},
     "output_type": "execute_result"
    },
    {
     "data": {
      "image/png": "[encoded data removed]",
      "text/plain": [
       "<matplotlib.figure.Figure at 0x1a26178bba8>"
      ]
     },
     "metadata": {},
     "output_type": "display_data"
    }
   ],
   "source": [
    "bx = df.mean().plot('bar')\n",
    "bx.set(title = \"Average Recognition Time Bar\",\n",
    "       xlabel = 'Condition', ylabel = 'Time(second)')"
   ]
  },
  {
   "cell_type": "markdown",
   "metadata": {},
   "source": [
    "IN the historgram. The congruent recognition time is ranged from 8 to 24. For the congruent recognition time is ranged from 12 to 36.This seems that the incongruent recognition time is longer than the congruent one. In addtion, the bar chart shows that incongruent recognition time is longer than congruent one , on average."
   ]
  },
  {
   "cell_type": "markdown",
   "metadata": {},
   "source": [
    "<a id='conclusion'></a>\n",
    "## Part III - Conclusion"
   ]
  },
  {
   "cell_type": "markdown",
   "metadata": {},
   "source": [
    "Now, perform the statistical test and report the results. What is the confidence level and your critical statistic value? Do you reject the null hypothesis or fail to reject it? Come to a conclusion in terms of the experiment task. Did the results match up with your expectations?"
   ]
  },
  {
   "cell_type": "markdown",
   "metadata": {},
   "source": [
    "Using bootstrap sampling to genenrate 95% confidence interval."
   ]
  },
  {
   "cell_type": "code",
   "execution_count": 14,
   "metadata": {},
   "outputs": [],
   "source": [
    "diffs = []\n",
    "for _ in range(10000):\n",
    "    bootsample = df.sample(10, replace = True)\n",
    "    C_time = bootsample.Congruent.mean()\n",
    "    T_time = bootsample.Incongruent.mean()\n",
    "    diff = C_time - T_time\n",
    "    diffs.append(diff)"
   ]
  },
  {
   "cell_type": "code",
   "execution_count": 15,
   "metadata": {},
   "outputs": [],
   "source": [
    "CI = [np.percentile(diffs, 2.5), np.percentile(diffs, 97.5)]"
   ]
  },
  {
   "cell_type": "code",
   "execution_count": 16,
   "metadata": {},
   "outputs": [],
   "source": [
    "# get t-stat, P-value, \n",
    "stat_result = stats.ttest_rel(C_list,I_list)\n",
    "# perfomed one side tested, so p value is divied in half\n",
    "p_value = stat_result.pvalue/2"
   ]
  },
  {
   "cell_type": "code",
   "execution_count": 17,
   "metadata": {},
   "outputs": [],
   "source": [
    "t_critical = stats.t.ppf(1-0.05, df = 23)"
   ]
  },
  {
   "cell_type": "code",
   "execution_count": 18,
   "metadata": {},
   "outputs": [],
   "source": [
    "dic1 = OrderedDict()\n",
    "dic1['t_critical'] = [t_critical]\n",
    "dic1['p_value'] = [p_value]\n",
    "dic1['t_statistic'] = [stat_result.statistic]\n",
    "dic1['95% Confidence_Interval'] = ['{}, {}'.format(str(CI[0]),str(CI[1]))]"
   ]
  },
  {
   "cell_type": "code",
   "execution_count": 19,
   "metadata": {},
   "outputs": [
    {
     "data": {
      "text/html": [
       "<div>\n",
       "<style scoped>\n",
       "    .dataframe tbody tr th:only-of-type {\n",
       "        vertical-align: middle;\n",
       "    }\n",
       "\n",
       "    .dataframe tbody tr th {\n",
       "        vertical-align: top;\n",
       "    }\n",
       "\n",
       "    .dataframe thead th {\n",
       "        text-align: right;\n",
       "    }\n",
       "</style>\n",
       "<table border=\"1\" class=\"dataframe\">\n",
       "  <thead>\n",
       "    <tr style=\"text-align: right;\">\n",
       "      <th></th>\n",
       "      <th>t_critical</th>\n",
       "      <th>p_value</th>\n",
       "      <th>t_statistic</th>\n",
       "      <th>95% Confidence_Interval</th>\n",
       "    </tr>\n",
       "  </thead>\n",
       "  <tbody>\n",
       "    <tr>\n",
       "      <th>0</th>\n",
       "      <td>1.713872</td>\n",
       "      <td>2.051500e-08</td>\n",
       "      <td>-8.020707</td>\n",
       "      <td>-11.163635, -5.2136975</td>\n",
       "    </tr>\n",
       "  </tbody>\n",
       "</table>\n",
       "</div>"
      ],
      "text/plain": [
       "   t_critical       p_value  t_statistic 95% Confidence_Interval\n",
       "0    1.713872  2.051500e-08    -8.020707  -11.163635, -5.2136975"
      ]
     },
     "execution_count": 19,
     "metadata": {},
     "output_type": "execute_result"
    }
   ],
   "source": [
    "pd.DataFrame(dic1)"
   ]
  },
  {
   "cell_type": "markdown",
   "metadata": {},
   "source": [
    "The p value is less than $\\alpha$ = 0.05. The critital value in the negative reaction -1.5. The t statitisc -8.020707 is in the critial region. Therefore, we have evidence to reject the null hypothesis.\n",
    "<br>\n",
    "In addtion, there is no zero in the confidence interval (-11.13548, -5.285565), we have evidences of the incongruent recognition mean time is longer than the congruent one.\n",
    "\n"
   ]
  },
  {
   "cell_type": "markdown",
   "metadata": {},
   "source": [
    "What do you think is responsible for the effects observed? Can you think of an alternative or similar task that would result in a similar effect? Some research about the problem will be helpful for thinking about these two questions!\n",
    "<br><br>\n",
    "The brain dominantly focus on reading words than recognizing color. When the incongruent words are displayed, it stops the reading function, and then start recognizing color. As the result, this takes longer for individual to read the incongruent word than they do for congruent one.\n",
    "McGurk effect is another similar experiment. The visual information the individual receives, from the speakers, change the way they hear the sounds. In the same manner of the color experiment, the auditory component of one sound is paired with the visual component of another sound."
   ]
  },
  {
   "cell_type": "markdown",
   "metadata": {},
   "source": [
    "<a id='acknowledgment'></a>\n",
    "### Acknowledgment"
   ]
  },
  {
   "cell_type": "markdown",
   "metadata": {},
   "source": [
    "Special thank to Udacity Project Reviewers whose advices and mentorship help me improve the project.\n",
    "<br>\n",
    "Source:\n",
    "[McGurk effect](https://en.wikipedia.org/wiki/McGurk_effect)"
   ]
  }
 ],
 "metadata": {
  "kernelspec": {
   "display_name": "Python 3",
   "language": "python",
   "name": "python3"
  },
  "language_info": {
   "codemirror_mode": {
    "name": "ipython",
    "version": 3
   },
   "file_extension": ".py",
   "mimetype": "text/x-python",
   "name": "python",
   "nbconvert_exporter": "python",
   "pygments_lexer": "ipython3",
   "version": "3.6.3"
  }
 },
 "nbformat": 4,
 "nbformat_minor": 2
}
